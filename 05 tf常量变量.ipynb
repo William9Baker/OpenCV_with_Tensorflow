{
 "cells": [
  {
   "cell_type": "code",
   "execution_count": 7,
   "metadata": {},
   "outputs": [
    {
     "name": "stdout",
     "output_type": "stream",
     "text": [
      "Tensor(\"Const_5:0\", shape=(), dtype=int32)\n",
      "<tf.Variable 'var_5:0' shape=() dtype=int32_ref>\n",
      "2\n",
      "10\n"
     ]
    }
   ],
   "source": [
    "import tensorflow as tf\n",
    "# data1 = tf.constant(2.5) #浮点数据\n",
    "data1 = tf.constant(2, dtype=tf.int32) # data1是常量\n",
    "data2 = tf.Variable(10, name='var')   # data2变量要进行初始化\n",
    "print(data1)\n",
    "print(data2)\n",
    "sess = tf.Session()\n",
    "print(sess.run(data1))\n",
    "\n",
    "init = tf.global_variables_initializer()\n",
    "sess.run(init)\n",
    "print(sess.run(data2))"
   ]
  },
  {
   "cell_type": "code",
   "execution_count": null,
   "metadata": {},
   "outputs": [],
   "source": []
  }
 ],
 "metadata": {
  "kernelspec": {
   "display_name": "Python 3",
   "language": "python",
   "name": "python3"
  },
  "language_info": {
   "codemirror_mode": {
    "name": "ipython",
    "version": 3
   },
   "file_extension": ".py",
   "mimetype": "text/x-python",
   "name": "python",
   "nbconvert_exporter": "python",
   "pygments_lexer": "ipython3",
   "version": "3.6.4"
  }
 },
 "nbformat": 4,
 "nbformat_minor": 2
}
