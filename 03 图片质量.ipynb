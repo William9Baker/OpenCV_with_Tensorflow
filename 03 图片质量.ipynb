{
 "cells": [
  {
   "cell_type": "code",
   "execution_count": 8,
   "metadata": {},
   "outputs": [
    {
     "data": {
      "text/plain": [
       "True"
      ]
     },
     "execution_count": 8,
     "metadata": {},
     "output_type": "execute_result"
    }
   ],
   "source": [
    "import cv2\n",
    "img = cv2.imread('image0.jpg',1)\n",
    "# cv2.imwrite('imageTest0.jpg', img, [cv2.IMWRITE_JPEG_QUALITY,0])  # 参数范围0-100    （*.jpg是有损压缩)\n",
    "cv2.imwrite('imageTest50.jpg', img, [cv2.IMWRITE_JPEG_QUALITY,50])"
   ]
  },
  {
   "cell_type": "code",
   "execution_count": 12,
   "metadata": {},
   "outputs": [
    {
     "data": {
      "text/plain": [
       "True"
      ]
     },
     "execution_count": 12,
     "metadata": {},
     "output_type": "execute_result"
    }
   ],
   "source": [
    "# *.png是无损压缩 有一个透明度属性\n",
    "import cv2\n",
    "img = cv2.imread('image0.jpg',1)\n",
    "# cv2.imwrite('imageTest0.png', img, [cv2.IMWRITE_PNG_COMPRESSION,0])\n",
    "cv2.imwrite('imageTest9.png', img, [cv2.IMWRITE_PNG_COMPRESSION,9])"
   ]
  },
  {
   "cell_type": "code",
   "execution_count": null,
   "metadata": {},
   "outputs": [],
   "source": [
    "# 总结：对于*.jpg文件来说，参数数字（0-100）越小压缩比越高；\n",
    "#       对于*.png文件来说，参数数字（0-9）越小压缩比越低。"
   ]
  }
 ],
 "metadata": {
  "kernelspec": {
   "display_name": "Python 3",
   "language": "python",
   "name": "python3"
  },
  "language_info": {
   "codemirror_mode": {
    "name": "ipython",
    "version": 3
   },
   "file_extension": ".py",
   "mimetype": "text/x-python",
   "name": "python",
   "nbconvert_exporter": "python",
   "pygments_lexer": "ipython3",
   "version": "3.6.4"
  }
 },
 "nbformat": 4,
 "nbformat_minor": 2
}
