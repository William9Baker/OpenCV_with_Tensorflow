{
 "cells": [
  {
   "cell_type": "code",
   "execution_count": null,
   "metadata": {},
   "outputs": [
    {
     "name": "stdout",
     "output_type": "stream",
     "text": [
      "3 4 2\n"
     ]
    }
   ],
   "source": [
    "# 读取一个具体的像素点的像素值 \n",
    "import cv2\n",
    "img = cv2.imread('image0.jpg',1)  # img存储的是解析之后的图片数据\n",
    "(b,g,r) = img[100,100]\n",
    "print(b, g, r)  # 颜色是以b,g,r的形式存储的\n",
    "\n",
    "# 像素的写入   10 100---110 100\n",
    "for i in range(1,100):\n",
    "    img[10+i,100] = (255,0,0)  # 写入蓝色，颜色是以b,g,r的形式存储的\n",
    "cv2.imshow('image',img)\n",
    "cv2.imwrite('image2.jpg', img) \n",
    "cv2.waitKey(0)   # 0可以替换成1000（ms）"
   ]
  },
  {
   "cell_type": "code",
   "execution_count": null,
   "metadata": {},
   "outputs": [],
   "source": []
  }
 ],
 "metadata": {
  "kernelspec": {
   "display_name": "Python 3",
   "language": "python",
   "name": "python3"
  },
  "language_info": {
   "codemirror_mode": {
    "name": "ipython",
    "version": 3
   },
   "file_extension": ".py",
   "mimetype": "text/x-python",
   "name": "python",
   "nbconvert_exporter": "python",
   "pygments_lexer": "ipython3",
   "version": "3.6.4"
  }
 },
 "nbformat": 4,
 "nbformat_minor": 2
}
